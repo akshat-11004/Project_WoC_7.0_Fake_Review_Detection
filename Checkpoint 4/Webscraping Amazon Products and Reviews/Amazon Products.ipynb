{
 "cells": [
  {
   "cell_type": "code",
   "execution_count": 1,
   "id": "1a774b07-38ea-4065-ab3f-50d1d5d2514d",
   "metadata": {},
   "outputs": [],
   "source": [
    "#Scrape Products From Amazon"
   ]
  },
  {
   "cell_type": "code",
   "execution_count": 2,
   "id": "9a85409b-0f3a-456f-9ad5-c81dcff03e3d",
   "metadata": {},
   "outputs": [
    {
     "name": "stderr",
     "output_type": "stream",
     "text": [
      "C:\\Users\\ASUS\\AppData\\Local\\Temp\\ipykernel_5760\\2080630057.py:1: DeprecationWarning: \n",
      "Pyarrow will become a required dependency of pandas in the next major release of pandas (pandas 3.0),\n",
      "(to allow more performant data types, such as the Arrow string type, and better interoperability with other libraries)\n",
      "but was not found to be installed on your system.\n",
      "If this would cause problems for you,\n",
      "please provide us feedback at https://github.com/pandas-dev/pandas/issues/54466\n",
      "        \n",
      "  import pandas as pd\n"
     ]
    }
   ],
   "source": [
    "import pandas as pd \n",
    "from selenium import webdriver\n",
    "from bs4 import BeautifulSoup"
   ]
  },
  {
   "cell_type": "code",
   "execution_count": 3,
   "id": "6887a173-3999-4060-8b15-254ee34ce4b6",
   "metadata": {},
   "outputs": [],
   "source": [
    "driver = webdriver.Chrome()"
   ]
  },
  {
   "cell_type": "code",
   "execution_count": 4,
   "id": "47e65ed5-eaf9-4da3-8782-8a0ef42cbaee",
   "metadata": {},
   "outputs": [],
   "source": [
    "driver.get('https://www.amazon.in/s?k=mobiles&crid=2944PM084A0K4&sprefix=mobiles%2Caps%2C271&ref=nb_sb_noss_1')"
   ]
  },
  {
   "cell_type": "code",
   "execution_count": 5,
   "id": "2946ff6f-41e4-47c2-b08b-2cb1c7451c12",
   "metadata": {},
   "outputs": [],
   "source": [
    "html_data = BeautifulSoup(driver.page_source, 'html.parser')"
   ]
  },
  {
   "cell_type": "code",
   "execution_count": 6,
   "id": "62c847c7-6081-4b71-b02f-f69b79c5dad6",
   "metadata": {},
   "outputs": [
    {
     "ename": "AttributeError",
     "evalue": "'NoneType' object has no attribute 'text'",
     "output_type": "error",
     "traceback": [
      "\u001b[1;31m---------------------------------------------------------------------------\u001b[0m",
      "\u001b[1;31mAttributeError\u001b[0m                            Traceback (most recent call last)",
      "Cell \u001b[1;32mIn[6], line 1\u001b[0m\n\u001b[1;32m----> 1\u001b[0m No_of_pages \u001b[38;5;241m=\u001b[39m \u001b[38;5;28mint\u001b[39m(\u001b[43mhtml_data\u001b[49m\u001b[38;5;241;43m.\u001b[39;49m\u001b[43mfind\u001b[49m\u001b[43m(\u001b[49m\u001b[38;5;124;43m'\u001b[39;49m\u001b[38;5;124;43mspan\u001b[39;49m\u001b[38;5;124;43m'\u001b[39;49m\u001b[43m,\u001b[49m\u001b[43m{\u001b[49m\u001b[38;5;124;43m'\u001b[39;49m\u001b[38;5;124;43mclass\u001b[39;49m\u001b[38;5;124;43m'\u001b[39;49m\u001b[43m:\u001b[49m\u001b[38;5;124;43m'\u001b[39;49m\u001b[38;5;124;43ms-pagination-item s-pagination-disabled\u001b[39;49m\u001b[38;5;124;43m'\u001b[39;49m\u001b[43m}\u001b[49m\u001b[43m)\u001b[49m\u001b[38;5;241;43m.\u001b[39;49m\u001b[43mtext\u001b[49m)\n",
      "\u001b[1;31mAttributeError\u001b[0m: 'NoneType' object has no attribute 'text'"
     ]
    }
   ],
   "source": [
    "No_of_pages = int(html_data.find('span',{'class':'s-pagination-item s-pagination-disabled'}).text)"
   ]
  },
  {
   "cell_type": "code",
   "execution_count": null,
   "id": "21b37769-20c3-4da0-b4d0-684ab237419d",
   "metadata": {},
   "outputs": [
    {
     "data": {
      "text/plain": [
       "20"
      ]
     },
     "execution_count": 100,
     "metadata": {},
     "output_type": "execute_result"
    }
   ],
   "source": [
    "No_of_pages"
   ]
  },
  {
   "cell_type": "code",
   "execution_count": null,
   "id": "5d0773b3-7e52-4a43-8112-80c6b0030f56",
   "metadata": {},
   "outputs": [],
   "source": [
    "products = html_data.find_all('div',{'data-component-type':'s-search-result'})"
   ]
  },
  {
   "cell_type": "code",
   "execution_count": null,
   "id": "20005b24-dc66-43f0-add1-4e5dac0e6c0e",
   "metadata": {},
   "outputs": [],
   "source": [
    "import time"
   ]
  },
  {
   "cell_type": "code",
   "execution_count": null,
   "id": "a94f07f4-c9e2-4513-910b-89aae3782cdb",
   "metadata": {},
   "outputs": [],
   "source": [
    "from tqdm import tqdm"
   ]
  },
  {
   "cell_type": "code",
   "execution_count": null,
   "id": "47cedb81-74b2-4770-882b-cfc388951458",
   "metadata": {},
   "outputs": [
    {
     "name": "stderr",
     "output_type": "stream",
     "text": [
      "100%|██████████████████████████████████████████████████████████████████████████████████| 20/20 [01:39<00:00,  4.98s/it]\n"
     ]
    }
   ],
   "source": [
    "titles = []\n",
    "images = []\n",
    "ratings = []\n",
    "prices = []\n",
    "for i in tqdm(range(No_of_pages)):\n",
    "    url = 'https://www.amazon.in/s?k=mobiles&crid=2944PM084A0K4&sprefix=mobiles%2Caps%2C271&ref=nb_sb_noss_1&page='+str(i+1)\n",
    "    driver.get(url)\n",
    "    time.sleep(3)\n",
    "    html_data = BeautifulSoup(driver.page_source, 'html.parser')\n",
    "    products = html_data.find_all('div',{'data-component-type':'s-search-result'})\n",
    "    for product in products:\n",
    "        title = product.find('span',{'class':'a-size-medium a-color-base a-text-normal'}).text\n",
    "        titles.append(title)\n",
    "        img = product.find('img')['src']\n",
    "        images.append(img)\n",
    "        rating = product.find('span',{'class':'a-icon-alt'})\n",
    "        if rating  == None:\n",
    "            rating = 'No Rating'\n",
    "        else:\n",
    "            rating = product.find('span',{'class':'a-icon-alt'}).text\n",
    "        ratings.append(rating)\n",
    "        price = '₹' + product.find('span',{'class':'a-price-whole'}).text\n",
    "        prices.append(price)"
   ]
  },
  {
   "cell_type": "code",
   "execution_count": null,
   "id": "2ef66ee3-a388-4c12-a7c5-d139128dfbe2",
   "metadata": {},
   "outputs": [
    {
     "data": {
      "text/plain": [
       "414"
      ]
     },
     "execution_count": 106,
     "metadata": {},
     "output_type": "execute_result"
    }
   ],
   "source": [
    "len(titles)"
   ]
  },
  {
   "cell_type": "code",
   "execution_count": null,
   "id": "bad2f1b6-868a-40e7-acb1-333138dbf710",
   "metadata": {},
   "outputs": [
    {
     "data": {
      "text/plain": [
       "440"
      ]
     },
     "execution_count": 85,
     "metadata": {},
     "output_type": "execute_result"
    }
   ],
   "source": [
    "22*20"
   ]
  },
  {
   "cell_type": "code",
   "execution_count": null,
   "id": "2de05a1b-f126-4b2c-8186-998f9ae959fc",
   "metadata": {},
   "outputs": [],
   "source": [
    "data = pd.DataFrame({'titles':titles, 'images':images,'ratings':ratings, 'prices':prices})"
   ]
  },
  {
   "cell_type": "code",
   "execution_count": null,
   "id": "f7578e3c-12aa-41ae-813f-129680427848",
   "metadata": {},
   "outputs": [
    {
     "data": {
      "text/html": [
       "<div>\n",
       "<style scoped>\n",
       "    .dataframe tbody tr th:only-of-type {\n",
       "        vertical-align: middle;\n",
       "    }\n",
       "\n",
       "    .dataframe tbody tr th {\n",
       "        vertical-align: top;\n",
       "    }\n",
       "\n",
       "    .dataframe thead th {\n",
       "        text-align: right;\n",
       "    }\n",
       "</style>\n",
       "<table border=\"1\" class=\"dataframe\">\n",
       "  <thead>\n",
       "    <tr style=\"text-align: right;\">\n",
       "      <th></th>\n",
       "      <th>titles</th>\n",
       "      <th>images</th>\n",
       "      <th>ratings</th>\n",
       "      <th>prices</th>\n",
       "    </tr>\n",
       "  </thead>\n",
       "  <tbody>\n",
       "    <tr>\n",
       "      <th>0</th>\n",
       "      <td>Apple iPhone 13 (128GB) - Midnight</td>\n",
       "      <td>https://m.media-amazon.com/images/I/61VuVU94Rn...</td>\n",
       "      <td>4.5 out of 5 stars</td>\n",
       "      <td>₹51,790</td>\n",
       "    </tr>\n",
       "    <tr>\n",
       "      <th>1</th>\n",
       "      <td>Apple iPhone 15 (256 GB) - Pink</td>\n",
       "      <td>https://m.media-amazon.com/images/I/71v2jVh6nI...</td>\n",
       "      <td>4.5 out of 5 stars</td>\n",
       "      <td>₹80,990</td>\n",
       "    </tr>\n",
       "    <tr>\n",
       "      <th>2</th>\n",
       "      <td>Redmi 13C (Starshine Green, 4GB RAM, 128GB Sto...</td>\n",
       "      <td>https://m.media-amazon.com/images/I/71uOCpmA8L...</td>\n",
       "      <td>4.0 out of 5 stars</td>\n",
       "      <td>₹7,999</td>\n",
       "    </tr>\n",
       "    <tr>\n",
       "      <th>3</th>\n",
       "      <td>Redmi 13C 5G (Starlight Black, 4GB RAM, 128GB ...</td>\n",
       "      <td>https://m.media-amazon.com/images/I/81L6069AwH...</td>\n",
       "      <td>3.9 out of 5 stars</td>\n",
       "      <td>₹10,999</td>\n",
       "    </tr>\n",
       "    <tr>\n",
       "      <th>4</th>\n",
       "      <td>Samsung Galaxy A14 5G (Light Green, 8GB, 128GB...</td>\n",
       "      <td>https://m.media-amazon.com/images/I/81AXMzLVMj...</td>\n",
       "      <td>3.9 out of 5 stars</td>\n",
       "      <td>₹18,449</td>\n",
       "    </tr>\n",
       "    <tr>\n",
       "      <th>...</th>\n",
       "      <td>...</td>\n",
       "      <td>...</td>\n",
       "      <td>...</td>\n",
       "      <td>...</td>\n",
       "    </tr>\n",
       "    <tr>\n",
       "      <th>409</th>\n",
       "      <td>OnePlus Nord CE 2 Lite 5G (Black Dusk, 6GB RAM...</td>\n",
       "      <td>https://m.media-amazon.com/images/I/61K7ujVUm+...</td>\n",
       "      <td>4.3 out of 5 stars</td>\n",
       "      <td>₹17,999</td>\n",
       "    </tr>\n",
       "    <tr>\n",
       "      <th>410</th>\n",
       "      <td>Samsung Galaxy S24 Ultra 5G AI Smartphone (Tit...</td>\n",
       "      <td>https://m.media-amazon.com/images/I/81njZjDqc6...</td>\n",
       "      <td>No Rating</td>\n",
       "      <td>₹1,18,999</td>\n",
       "    </tr>\n",
       "    <tr>\n",
       "      <th>411</th>\n",
       "      <td>Samsung Galaxy S23 FE 5G (Purple, 8GB, 128GB S...</td>\n",
       "      <td>https://m.media-amazon.com/images/I/71Ii1syiYr...</td>\n",
       "      <td>3.9 out of 5 stars</td>\n",
       "      <td>₹47,680</td>\n",
       "    </tr>\n",
       "    <tr>\n",
       "      <th>412</th>\n",
       "      <td>Nokia C22 | 3-Day Battery Life | 4GB RAM (2GB ...</td>\n",
       "      <td>https://m.media-amazon.com/images/I/71h0AwGlUC...</td>\n",
       "      <td>3.8 out of 5 stars</td>\n",
       "      <td>₹6,499</td>\n",
       "    </tr>\n",
       "    <tr>\n",
       "      <th>413</th>\n",
       "      <td>OnePlus 12 (Flowy Emerald, 12GB RAM, 256GB Sto...</td>\n",
       "      <td>https://m.media-amazon.com/images/I/717Qo4MH97...</td>\n",
       "      <td>4.4 out of 5 stars</td>\n",
       "      <td>₹64,999</td>\n",
       "    </tr>\n",
       "  </tbody>\n",
       "</table>\n",
       "<p>414 rows × 4 columns</p>\n",
       "</div>"
      ],
      "text/plain": [
       "                                                titles  \\\n",
       "0                   Apple iPhone 13 (128GB) - Midnight   \n",
       "1                      Apple iPhone 15 (256 GB) - Pink   \n",
       "2    Redmi 13C (Starshine Green, 4GB RAM, 128GB Sto...   \n",
       "3    Redmi 13C 5G (Starlight Black, 4GB RAM, 128GB ...   \n",
       "4    Samsung Galaxy A14 5G (Light Green, 8GB, 128GB...   \n",
       "..                                                 ...   \n",
       "409  OnePlus Nord CE 2 Lite 5G (Black Dusk, 6GB RAM...   \n",
       "410  Samsung Galaxy S24 Ultra 5G AI Smartphone (Tit...   \n",
       "411  Samsung Galaxy S23 FE 5G (Purple, 8GB, 128GB S...   \n",
       "412  Nokia C22 | 3-Day Battery Life | 4GB RAM (2GB ...   \n",
       "413  OnePlus 12 (Flowy Emerald, 12GB RAM, 256GB Sto...   \n",
       "\n",
       "                                                images             ratings  \\\n",
       "0    https://m.media-amazon.com/images/I/61VuVU94Rn...  4.5 out of 5 stars   \n",
       "1    https://m.media-amazon.com/images/I/71v2jVh6nI...  4.5 out of 5 stars   \n",
       "2    https://m.media-amazon.com/images/I/71uOCpmA8L...  4.0 out of 5 stars   \n",
       "3    https://m.media-amazon.com/images/I/81L6069AwH...  3.9 out of 5 stars   \n",
       "4    https://m.media-amazon.com/images/I/81AXMzLVMj...  3.9 out of 5 stars   \n",
       "..                                                 ...                 ...   \n",
       "409  https://m.media-amazon.com/images/I/61K7ujVUm+...  4.3 out of 5 stars   \n",
       "410  https://m.media-amazon.com/images/I/81njZjDqc6...           No Rating   \n",
       "411  https://m.media-amazon.com/images/I/71Ii1syiYr...  3.9 out of 5 stars   \n",
       "412  https://m.media-amazon.com/images/I/71h0AwGlUC...  3.8 out of 5 stars   \n",
       "413  https://m.media-amazon.com/images/I/717Qo4MH97...  4.4 out of 5 stars   \n",
       "\n",
       "        prices  \n",
       "0      ₹51,790  \n",
       "1      ₹80,990  \n",
       "2       ₹7,999  \n",
       "3      ₹10,999  \n",
       "4      ₹18,449  \n",
       "..         ...  \n",
       "409    ₹17,999  \n",
       "410  ₹1,18,999  \n",
       "411    ₹47,680  \n",
       "412     ₹6,499  \n",
       "413    ₹64,999  \n",
       "\n",
       "[414 rows x 4 columns]"
      ]
     },
     "execution_count": 108,
     "metadata": {},
     "output_type": "execute_result"
    }
   ],
   "source": [
    "data"
   ]
  },
  {
   "cell_type": "code",
   "execution_count": null,
   "id": "861f97d9-3ee7-47c6-a7e9-076ce10c0309",
   "metadata": {},
   "outputs": [],
   "source": [
    "data.to_csv('Mobile Products.csv')"
   ]
  },
  {
   "cell_type": "code",
   "execution_count": null,
   "id": "deef68aa-7c70-4ae7-8604-d19a0c6b9f2f",
   "metadata": {},
   "outputs": [],
   "source": []
  }
 ],
 "metadata": {
  "kernelspec": {
   "display_name": "Python 3",
   "language": "python",
   "name": "python3"
  },
  "language_info": {
   "codemirror_mode": {
    "name": "ipython",
    "version": 3
   },
   "file_extension": ".py",
   "mimetype": "text/x-python",
   "name": "python",
   "nbconvert_exporter": "python",
   "pygments_lexer": "ipython3",
   "version": "3.11.7"
  }
 },
 "nbformat": 4,
 "nbformat_minor": 5
}
