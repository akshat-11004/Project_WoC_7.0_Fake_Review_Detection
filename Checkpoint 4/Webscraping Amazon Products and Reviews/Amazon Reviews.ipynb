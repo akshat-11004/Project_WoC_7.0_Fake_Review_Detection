{
 "cells": [
  {
   "cell_type": "code",
   "execution_count": 1,
   "id": "4b098f8b-6a67-4513-82e3-440f77a1dadd",
   "metadata": {},
   "outputs": [],
   "source": [
    "#Scrape Reviews From Amazon"
   ]
  },
  {
   "cell_type": "code",
   "execution_count": 2,
   "id": "7be1e4bb-1a6f-478e-a0a5-f7cefb3f6b32",
   "metadata": {},
   "outputs": [
    {
     "ename": "ModuleNotFoundError",
     "evalue": "No module named 'pandas'",
     "output_type": "error",
     "traceback": [
      "\u001b[1;31m---------------------------------------------------------------------------\u001b[0m",
      "\u001b[1;31mModuleNotFoundError\u001b[0m                       Traceback (most recent call last)",
      "Cell \u001b[1;32mIn[2], line 1\u001b[0m\n\u001b[1;32m----> 1\u001b[0m \u001b[38;5;28;01mimport\u001b[39;00m\u001b[38;5;250m \u001b[39m\u001b[38;5;21;01mpandas\u001b[39;00m\u001b[38;5;250m \u001b[39m\u001b[38;5;28;01mas\u001b[39;00m\u001b[38;5;250m \u001b[39m\u001b[38;5;21;01mpd\u001b[39;00m \n\u001b[0;32m      2\u001b[0m \u001b[38;5;28;01mfrom\u001b[39;00m\u001b[38;5;250m \u001b[39m\u001b[38;5;21;01mselenium\u001b[39;00m\u001b[38;5;250m \u001b[39m\u001b[38;5;28;01mimport\u001b[39;00m webdriver\n\u001b[0;32m      3\u001b[0m \u001b[38;5;28;01mfrom\u001b[39;00m\u001b[38;5;250m \u001b[39m\u001b[38;5;21;01mbs4\u001b[39;00m\u001b[38;5;250m \u001b[39m\u001b[38;5;28;01mimport\u001b[39;00m BeautifulSoup\n",
      "\u001b[1;31mModuleNotFoundError\u001b[0m: No module named 'pandas'"
     ]
    }
   ],
   "source": [
    "import pandas as pd \n",
    "from selenium import webdriver\n",
    "from bs4 import BeautifulSoup"
   ]
  },
  {
   "cell_type": "code",
   "execution_count": null,
   "id": "cb14ea44-e943-4427-afc5-a4a572a785cf",
   "metadata": {},
   "outputs": [],
   "source": [
    "driver = webdriver.Chrome()"
   ]
  },
  {
   "cell_type": "code",
   "execution_count": null,
   "id": "ce80eeb2-0254-47ce-91c7-807339a552d7",
   "metadata": {},
   "outputs": [],
   "source": [
    "driver.get('https://www.amazon.com/Samsung-SM-155M-DSN-Unlocked-International/dp/B0CV31FT2V/?_encoding=UTF8&pd_rd_w=SXHdG&content-id=amzn1.sym.c2cf8313-b86b-4327-9de4-9398adaa570b%3Aamzn1.symc.a68f4ca3-28dc-4388-a2cf-24672c480d8f&pf_rd_p=c2cf8313-b86b-4327-9de4-9398adaa570b&pf_rd_r=2D7FDFA4AE9AA4M6ZRSZ&pd_rd_wg=E9I3l&pd_rd_r=28425451-e13a-40f5-8e98-8dd9bb81fbae&ref_=pd_hp_d_atf_ci_mcx_mr_ca_hp_atf_d&th=1')"
   ]
  },
  {
   "cell_type": "code",
   "execution_count": null,
   "id": "25f1e773-11de-4942-a34f-8553fb65d97f",
   "metadata": {},
   "outputs": [],
   "source": [
    "html_data = BeautifulSoup(driver.page_source, 'html.parser')"
   ]
  },
  {
   "cell_type": "code",
   "execution_count": null,
   "id": "49c727f0-c9dd-4984-8b77-32e68418aa8b",
   "metadata": {},
   "outputs": [],
   "source": [
    "import time \n"
   ]
  },
  {
   "cell_type": "code",
   "execution_count": null,
   "id": "37ce3afc-5ecc-484f-98b3-be774fe08e78",
   "metadata": {},
   "outputs": [
    {
     "ename": "NameError",
     "evalue": "name 'url' is not defined",
     "output_type": "error",
     "traceback": [
      "\u001b[1;31m---------------------------------------------------------------------------\u001b[0m",
      "\u001b[1;31mNameError\u001b[0m                                 Traceback (most recent call last)",
      "Cell \u001b[1;32mIn[16], line 7\u001b[0m\n\u001b[0;32m      5\u001b[0m titles \u001b[38;5;241m=\u001b[39m []\n\u001b[0;32m      6\u001b[0m reviews_text \u001b[38;5;241m=\u001b[39m []\n\u001b[1;32m----> 7\u001b[0m \u001b[38;5;28;01mwhile\u001b[39;00m \u001b[43murl\u001b[49m \u001b[38;5;241m!=\u001b[39m \u001b[38;5;28;01mNone\u001b[39;00m:\n\u001b[0;32m      8\u001b[0m     i \u001b[38;5;241m=\u001b[39m i \u001b[38;5;241m+\u001b[39m \u001b[38;5;241m1\u001b[39m\n\u001b[0;32m      9\u001b[0m     url \u001b[38;5;241m=\u001b[39m \u001b[38;5;124m'\u001b[39m\u001b[38;5;124mhttps://www.amazon.com/Samsung-SM-155M-DSN-Unlocked-International/dp/B0CV31FT2V/?_encoding=UTF8&pd_rd_w=SXHdG&content-id=amzn1.sym.c2cf8313-b86b-4327-9de4-9398adaa570b\u001b[39m\u001b[38;5;124m%\u001b[39m\u001b[38;5;124m3Aamzn1.symc.a68f4ca3-28dc-4388-a2cf-24672c480d8f&pf_rd_p=c2cf8313-b86b-4327-9de4-9398adaa570b&pf_rd_r=2D7FDFA4AE9AA4M6ZRSZ&pd_rd_wg=E9I3l&pd_rd_r=28425451-e13a-40f5-8e98-8dd9bb81fbae&ref_=pd_hp_d_atf_ci_mcx_mr_ca_hp_atf_d&th=1\u001b[39m\u001b[38;5;124m'\u001b[39m\n",
      "\u001b[1;31mNameError\u001b[0m: name 'url' is not defined"
     ]
    }
   ],
   "source": [
    "i = 0\n",
    "names = []\n",
    "ratings = []\n",
    "rating_dates = []\n",
    "titles = []\n",
    "reviews_text = []\n",
    "while url != None:\n",
    "    i = i + 1\n",
    "    url = 'https://www.amazon.com/Samsung-SM-155M-DSN-Unlocked-International/dp/B0CV31FT2V/?_encoding=UTF8&pd_rd_w=SXHdG&content-id=amzn1.sym.c2cf8313-b86b-4327-9de4-9398adaa570b%3Aamzn1.symc.a68f4ca3-28dc-4388-a2cf-24672c480d8f&pf_rd_p=c2cf8313-b86b-4327-9de4-9398adaa570b&pf_rd_r=2D7FDFA4AE9AA4M6ZRSZ&pd_rd_wg=E9I3l&pd_rd_r=28425451-e13a-40f5-8e98-8dd9bb81fbae&ref_=pd_hp_d_atf_ci_mcx_mr_ca_hp_atf_d&th=1'\n",
    "    driver.get(url)\n",
    "    time.sleep(5)\n",
    "    html_data = BeautifulSoup(driver.page_source, 'html.parser')\n",
    "    reviews = html_data.find_all('div',{'data-hook':'review'})\n",
    "    for review in reviews:\n",
    "        name = review.find('span',{'class':'a-profile-name'}).text\n",
    "        names.append(name.strip())\n",
    "        rating = review.find('span',{'class':'a-icon-alt'}).text\n",
    "        ratings.append(rating)\n",
    "        rating_date = review.find('span',{'data-hook':'review-date'}).text\n",
    "        rating_dates.append(rating_date)\n",
    "        title = review.find('a',{'data-hook':'review-title'}).text\n",
    "        titles.append(title)\n",
    "        review_text = review.find('span',{'data-hook':'review-body'}).text\n",
    "        reviews_text.append(review_text)\n",
    "    url_check = html_data.find('li',{'class':'a-last'})\n",
    "    if url_check == None:\n",
    "       \n",
    "        url = None\n",
    "        \n",
    "    else:\n",
    "        url = 'https://www.amazon.com' + html_data.find('li',{'class':'a-last'}).a['href']\n",
    "    print(url)\n",
    "    "
   ]
  },
  {
   "cell_type": "code",
   "execution_count": null,
   "id": "ff8640ff-4b1d-4c81-af41-110882b62851",
   "metadata": {},
   "outputs": [],
   "source": [
    "data = pd.DataFrame({'profile_name':names,\n",
    "                    'rating':ratings,\n",
    "                     'rating_date':rating_dates,\n",
    "                     'title':titles,\n",
    "                     'review_text':reviews_text\n",
    "                     })"
   ]
  },
  {
   "cell_type": "code",
   "execution_count": null,
   "id": "91bce408-e7d3-47d4-9f18-b6f6b76d1bff",
   "metadata": {},
   "outputs": [
    {
     "data": {
      "text/plain": [
       "rating\n",
       "5.0 out of 5 stars    46\n",
       "1.0 out of 5 stars    25\n",
       "4.0 out of 5 stars    19\n",
       "3.0 out of 5 stars     6\n",
       "2.0 out of 5 stars     4\n",
       "Name: count, dtype: int64"
      ]
     },
     "execution_count": 25,
     "metadata": {},
     "output_type": "execute_result"
    }
   ],
   "source": [
    "data.rating.value_counts()"
   ]
  },
  {
   "cell_type": "code",
   "execution_count": null,
   "id": "a6ad169f-d0d4-471d-b508-6ee6b6d3ee3d",
   "metadata": {},
   "outputs": [],
   "source": [
    "data.to_csv('Iphone 13 Amazon Reviews.csv')"
   ]
  },
  {
   "cell_type": "code",
   "execution_count": null,
   "id": "aca9cae2-5983-422f-9e7c-a252e1cce72c",
   "metadata": {},
   "outputs": [],
   "source": []
  }
 ],
 "metadata": {
  "kernelspec": {
   "display_name": ".venv",
   "language": "python",
   "name": "python3"
  },
  "language_info": {
   "codemirror_mode": {
    "name": "ipython",
    "version": 3
   },
   "file_extension": ".py",
   "mimetype": "text/x-python",
   "name": "python",
   "nbconvert_exporter": "python",
   "pygments_lexer": "ipython3",
   "version": "3.11.7"
  }
 },
 "nbformat": 4,
 "nbformat_minor": 5
}
